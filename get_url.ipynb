{
 "cells": [
  {
   "cell_type": "code",
   "execution_count": null,
   "id": "dcac4619-8e0c-42bf-a69b-d0de4a2475cc",
   "metadata": {},
   "outputs": [],
   "source": [
    "import emoji\n",
    "import telegram\n",
    "from selenium import webdriver\n",
    "from selenium.webdriver.common.by import By\n",
    "from selenium.webdriver.common.keys import Keys\n",
    "from datetime import datetime\n",
    "import time\n",
    "from bs4 import BeautifulSoup\n",
    "import random\n",
    "\n",
    "ID = ''\n",
    "PW = ''\n",
    "driver = webdriver.Chrome()\n",
    "driver.get('https://everytime.kr/login')\n",
    "driver.find_element(By.NAME, 'id').send_keys(ID)\n",
    "driver.find_element(By.NAME, 'password').send_keys(PW)\n",
    "driver.find_element(By.XPATH, '//input[@value=\"에브리타임 로그인\"]').click()"
   ]
  },
  {
   "cell_type": "code",
   "execution_count": 19,
   "id": "621aeef9-952f-465a-bf7e-ca5614ce2757",
   "metadata": {},
   "outputs": [],
   "source": [
    "everytime_url=[]"
   ]
  },
  {
   "cell_type": "code",
   "execution_count": 32,
   "id": "23009bf6-f299-4b75-bfab-12cc1039542b",
   "metadata": {},
   "outputs": [],
   "source": [
    "for i in range(400,448):\n",
    "    driver.get('https://everytime.kr/442356/p/'+str(i+1))\n",
    "    time.sleep(3)\n",
    "    time.sleep(random.uniform(1,5))\n",
    "    \n",
    "    html = driver.page_source\n",
    "\n",
    "    soup = BeautifulSoup(html, 'html.parser')\n",
    "\n",
    "    articles = soup.find_all('article', class_='list')\n",
    "\n",
    "    for article in articles:\n",
    "        a_tag = article.find('a', class_='article')\n",
    "        if a_tag and 'href' in a_tag.attrs:\n",
    "            href_value = a_tag['href']\n",
    "            everytime_url.append('everytime.kr'+href_value)"
   ]
  },
  {
   "cell_type": "code",
   "execution_count": 33,
   "id": "cb34d3e6-36db-4173-b716-6a02dcfcc2fc",
   "metadata": {
    "scrolled": true
   },
   "outputs": [
    {
     "data": {
      "text/plain": [
       "8959"
      ]
     },
     "execution_count": 33,
     "metadata": {},
     "output_type": "execute_result"
    }
   ],
   "source": [
    "len(everytime_url)"
   ]
  },
  {
   "cell_type": "code",
   "execution_count": 38,
   "id": "ca00997b-a096-42e8-9268-14229babc930",
   "metadata": {},
   "outputs": [],
   "source": [
    "import json\n",
    "\n",
    "file_path=\"url.json\"\n",
    "with open(file_path, 'w') as json_file:\n",
    "    json.dump(everytime_url, json_file, indent=2)"
   ]
  },
  {
   "cell_type": "code",
   "execution_count": null,
   "id": "d23bd4bf-9466-40ad-9c46-fff07f39d207",
   "metadata": {},
   "outputs": [],
   "source": []
  }
 ],
 "metadata": {
  "kernelspec": {
   "display_name": "python3.10",
   "language": "python",
   "name": "python3.10"
  },
  "language_info": {
   "codemirror_mode": {
    "name": "ipython",
    "version": 3
   },
   "file_extension": ".py",
   "mimetype": "text/x-python",
   "name": "python",
   "nbconvert_exporter": "python",
   "pygments_lexer": "ipython3",
   "version": "3.10.12"
  }
 },
 "nbformat": 4,
 "nbformat_minor": 5
}
