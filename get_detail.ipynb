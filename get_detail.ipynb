{
 "cells": [
  {
   "cell_type": "code",
   "execution_count": 24,
   "id": "ee407bb3-b6a1-4cd5-b3f5-ef3bbdba6774",
   "metadata": {},
   "outputs": [],
   "source": [
    "import json\n",
    "import emoji\n",
    "import telegram\n",
    "from selenium import webdriver\n",
    "from selenium.webdriver.common.by import By\n",
    "from selenium.webdriver.common.keys import Keys\n",
    "from datetime import datetime\n",
    "import time\n",
    "from bs4 import BeautifulSoup\n",
    "import random\n",
    "from html import unescape"
   ]
  },
  {
   "cell_type": "code",
   "execution_count": 25,
   "id": "e59bba0d-cfcb-423b-920c-39c90ea98697",
   "metadata": {},
   "outputs": [],
   "source": [
    "ID = ''\n",
    "PW = ''\n",
    "driver = webdriver.Chrome()\n",
    "driver.get('https://everytime.kr/login')\n",
    "driver.find_element(By.NAME, 'id').send_keys(ID)\n",
    "driver.find_element(By.NAME, 'password').send_keys(PW)\n",
    "driver.find_element(By.XPATH, '//input[@value=\"에브리타임 로그인\"]').click()"
   ]
  },
  {
   "cell_type": "code",
   "execution_count": 26,
   "id": "9505674a-d46e-4f7c-8f1c-7983d219a975",
   "metadata": {},
   "outputs": [],
   "source": [
    "def extract_text(tags):\n",
    "    full_text = \"\"\n",
    "    for tag in tags:\n",
    "        # 태그에서 텍스트 추출\n",
    "        text = tag.get_text()\n",
    "\n",
    "        # HTML 엔티티를 일반 텍스트로 변환 (예: &amp; -> &)\n",
    "        text = unescape(text)  # 이 부분에서 오류가 발생했습니다.\n",
    "\n",
    "        # 공백 제거 및 정리\n",
    "        text = text.strip()\n",
    "\n",
    "        # 텍스트 추가\n",
    "        full_text += text + \" \"  # 단어 사이에 공백 추가\n",
    "\n",
    "    return full_text.strip()  # 마지막 공백 제거"
   ]
  },
  {
   "cell_type": "code",
   "execution_count": 27,
   "id": "ecc729b5-3a16-4268-a65a-abfdf02b59ca",
   "metadata": {},
   "outputs": [],
   "source": [
    "def extract_comments(soup):\n",
    "    comments = []\n",
    "    last_parent_author = None\n",
    "\n",
    "    for article in soup.find_all('article'):\n",
    "        comment_type = None  # 여기에 초기값 설정\n",
    "        author = \"\"\n",
    "        comment_text = \"\"\n",
    "        timestamp = \"\"\n",
    "        vote_count = 0\n",
    "\n",
    "        h3_tag = article.find('h3', class_='medium')\n",
    "        p_tag = article.find('p', class_='large')\n",
    "        time_tag = article.find('time', class_='medium')\n",
    "        vote_tag = article.find('li', class_='vote')\n",
    "\n",
    "        if h3_tag:\n",
    "            author = h3_tag.text.strip()\n",
    "        if p_tag:\n",
    "            comment_text = p_tag.text.strip()\n",
    "        if time_tag:\n",
    "            timestamp = time_tag.text.strip()\n",
    "        if vote_tag:\n",
    "            vote_count = vote_tag.text.strip()\n",
    "\n",
    "        if 'parent' in article['class']:\n",
    "            last_parent_author = author\n",
    "            comment_type = 'parent'\n",
    "        elif 'child' in article['class']:\n",
    "            comment_type = 'child'\n",
    "\n",
    "        if comment_type:\n",
    "            comment_dict = {\n",
    "                \"Type\": comment_type,\n",
    "                \"Author\": author,\n",
    "                \"Comment\": comment_text,\n",
    "                \"Timestamp\": timestamp,\n",
    "                \"Vote Count\": vote_count\n",
    "            }\n",
    "\n",
    "            # 대댓글일 경우 부모 댓글의 작성자 추가\n",
    "            if comment_type == 'child' and last_parent_author:\n",
    "                comment_dict[\"Parent Author\"] = last_parent_author\n",
    "\n",
    "            comments.append(comment_dict)\n",
    "\n",
    "    return comments\n"
   ]
  },
  {
   "cell_type": "code",
   "execution_count": 34,
   "id": "2864f85f-ced3-4bb1-8043-825b926411e5",
   "metadata": {},
   "outputs": [],
   "source": [
    "result_dict = {\n",
    "    \"title\": [],\n",
    "    \"detail\": [],\n",
    "    \"likes\": [],\n",
    "    \"comments_count\": [],\n",
    "    \"scraps\": [],\n",
    "    \"comments\": [],\n",
    "    \"url\": [],\n",
    "    \"timestamp\": []\n",
    "}\n"
   ]
  },
  {
   "cell_type": "code",
   "execution_count": 35,
   "id": "9d996f78-71a5-423f-a1e3-df648d070345",
   "metadata": {},
   "outputs": [
    {
     "name": "stdout",
     "output_type": "stream",
     "text": [
      "01/15 11:16\n",
      "01/15 11:05\n"
     ]
    },
    {
     "ename": "KeyboardInterrupt",
     "evalue": "",
     "output_type": "error",
     "traceback": [
      "\u001b[0;31m---------------------------------------------------------------------------\u001b[0m",
      "\u001b[0;31mKeyboardInterrupt\u001b[0m                         Traceback (most recent call last)",
      "Cell \u001b[0;32mIn[35], line 8\u001b[0m\n\u001b[1;32m      6\u001b[0m \u001b[38;5;28;01mfor\u001b[39;00m url \u001b[38;5;129;01min\u001b[39;00m data:\n\u001b[1;32m      7\u001b[0m     driver\u001b[38;5;241m.\u001b[39mget(\u001b[38;5;124m\"\u001b[39m\u001b[38;5;124mhttps://\u001b[39m\u001b[38;5;124m\"\u001b[39m \u001b[38;5;241m+\u001b[39m url)\n\u001b[0;32m----> 8\u001b[0m     \u001b[43mtime\u001b[49m\u001b[38;5;241;43m.\u001b[39;49m\u001b[43msleep\u001b[49m\u001b[43m(\u001b[49m\u001b[38;5;241;43m3\u001b[39;49m\u001b[43m \u001b[49m\u001b[38;5;241;43m+\u001b[39;49m\u001b[43m \u001b[49m\u001b[43mrandom\u001b[49m\u001b[38;5;241;43m.\u001b[39;49m\u001b[43muniform\u001b[49m\u001b[43m(\u001b[49m\u001b[38;5;241;43m1\u001b[39;49m\u001b[43m,\u001b[49m\u001b[43m \u001b[49m\u001b[38;5;241;43m5\u001b[39;49m\u001b[43m)\u001b[49m\u001b[43m)\u001b[49m\n\u001b[1;32m      9\u001b[0m     html_content \u001b[38;5;241m=\u001b[39m driver\u001b[38;5;241m.\u001b[39mpage_source\n\u001b[1;32m     10\u001b[0m     soup \u001b[38;5;241m=\u001b[39m BeautifulSoup(html_content, \u001b[38;5;124m'\u001b[39m\u001b[38;5;124mhtml.parser\u001b[39m\u001b[38;5;124m'\u001b[39m)\n",
      "\u001b[0;31mKeyboardInterrupt\u001b[0m: "
     ]
    }
   ],
   "source": [
    "file_path = \"url_test.json\"\n",
    "test = []\n",
    "with open(file_path, 'r', encoding='UTF-8') as json_file:\n",
    "    data = json.load(json_file)\n",
    "\n",
    "for url in data:\n",
    "    driver.get(\"https://\" + url)\n",
    "    time.sleep(3 + random.uniform(1, 5))\n",
    "    html_content = driver.page_source\n",
    "    soup = BeautifulSoup(html_content, 'html.parser')\n",
    "    \n",
    "    title = extract_text(soup.find_all('h2', class_='large'))\n",
    "    detail = extract_text(soup.find('p', class_='large'))\n",
    "    likes = extract_text(soup.find('li', class_= \"vote\"))\n",
    "    comments_count = extract_text(soup.find('li', class_=\"comment\"))\n",
    "    scraps = extract_text(soup.find('li', class_='scrap'))\n",
    "    comments = extract_comments(soup)\n",
    "    timestamp = extract_text(soup.find('time', class_='large'))\n",
    "\n",
    "    result_dict[\"title\"].append(title)\n",
    "    result_dict[\"detail\"].append(detail)\n",
    "    result_dict[\"likes\"].append(likes)\n",
    "    result_dict[\"comments_count\"].append(comments_count)\n",
    "    result_dict[\"scraps\"].append(scraps)\n",
    "    result_dict[\"url\"].append(url)\n",
    "    result_dict[\"comments\"].append(comments)\n",
    "    result_dict[\"timestamp\"].append(timestamp)\n",
    "    "
   ]
  },
  {
   "cell_type": "code",
   "execution_count": 33,
   "id": "db96d46e-04e7-4aad-88a3-c81095f2954c",
   "metadata": {},
   "outputs": [],
   "source": [
    "file_path=\"everytime_computer_data.json\"\n",
    "with open(file_path, 'w', encoding='UTF-8') as json_file:\n",
    "    json.dump(result_dict, json_file, indent=2, ensure_ascii=False)\n"
   ]
  },
  {
   "cell_type": "code",
   "execution_count": null,
   "id": "1c4e9fcf",
   "metadata": {},
   "outputs": [],
   "source": []
  },
  {
   "cell_type": "code",
   "execution_count": null,
   "id": "23e585c7",
   "metadata": {},
   "outputs": [],
   "source": []
  }
 ],
 "metadata": {
  "kernelspec": {
   "display_name": "tensorflow",
   "language": "python",
   "name": "python3"
  },
  "language_info": {
   "codemirror_mode": {
    "name": "ipython",
    "version": 3
   },
   "file_extension": ".py",
   "mimetype": "text/x-python",
   "name": "python",
   "nbconvert_exporter": "python",
   "pygments_lexer": "ipython3",
   "version": "3.10.13"
  }
 },
 "nbformat": 4,
 "nbformat_minor": 5
}
